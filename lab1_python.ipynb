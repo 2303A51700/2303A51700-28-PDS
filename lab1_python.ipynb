{
  "nbformat": 4,
  "nbformat_minor": 0,
  "metadata": {
    "colab": {
      "provenance": [],
      "authorship_tag": "ABX9TyOTyMi/ZCCRVQK4/Yx1q7UB",
      "include_colab_link": true
    },
    "kernelspec": {
      "name": "python3",
      "display_name": "Python 3"
    },
    "language_info": {
      "name": "python"
    }
  },
  "cells": [
    {
      "cell_type": "markdown",
      "metadata": {
        "id": "view-in-github",
        "colab_type": "text"
      },
      "source": [
        "<a href=\"https://colab.research.google.com/github/2303A51700/2303A51700-28-PDS/blob/main/lab1_python.ipynb\" target=\"_parent\"><img src=\"https://colab.research.google.com/assets/colab-badge.svg\" alt=\"Open In Colab\"/></a>"
      ]
    },
    {
      "cell_type": "code",
      "execution_count": null,
      "metadata": {
        "colab": {
          "base_uri": "https://localhost:8080/"
        },
        "id": "hczxidF390hy",
        "outputId": "71a537c8-4830-46e1-ae2c-42758d66cb98"
      },
      "outputs": [
        {
          "output_type": "stream",
          "name": "stdout",
          "text": [
            "Enter a number to calculate the factiorial : 24\n",
            "The factorial of 24 is 620448401733239439360000\n"
          ]
        }
      ],
      "source": [
        "def factorial(n):\n",
        "  if n==0 or n==1:\n",
        "    return 1\n",
        "  else:\n",
        "    return n*factorial(n-1)\n",
        "number=int(input(\"Enter a number to calculate the factiorial : \"))\n",
        "if number<0:\n",
        "  print(\"factorial not defined\")\n",
        "else:\n",
        "  result=factorial(number)\n",
        "  print(f\"The factorial of {number} is {result}\")"
      ]
    },
    {
      "cell_type": "code",
      "source": [
        "def factorial(n, depth=0):\n",
        "    indent = \"  \" * depth  # Indentation for visualizing depth\n",
        "    print(f\"{indent}Calling factorial({n})\")\n",
        "\n",
        "    if n == 0 or n == 1:\n",
        "        print(f\"{indent}Base case reached: factorial({n}) = 1\")\n",
        "        return 1\n",
        "    else:\n",
        "        print(f\"{indent}Recursive case: {n} * factorial({n-1})\")\n",
        "        result = n * factorial(n - 1, depth + 1)\n",
        "        print(f\"{indent}Returning: {n} * factorial({n-1}) = {result}\")\n",
        "        return result\n",
        "\n",
        "# Take input from user\n",
        "number = int(input(\"Enter a number to calculate the factorial (≤ 10): \"))\n",
        "\n",
        "# Validate input\n",
        "if number < 0:\n",
        "    print(\"Factorial not defined for negative numbers.\")\n",
        "elif number > 10:\n",
        "    print(\"Please enter a number ≤ 10 to visualize recursion.\")\n",
        "else:\n",
        "    final_result = factorial(number)\n",
        "    print(f\"\\nThe factorial of {number} is {final_result}\")"
      ],
      "metadata": {
        "colab": {
          "base_uri": "https://localhost:8080/"
        },
        "id": "9zHCuzTS-GZq",
        "outputId": "7c7909b4-018a-401f-ce14-2c50b64bf24c"
      },
      "execution_count": null,
      "outputs": [
        {
          "output_type": "stream",
          "name": "stdout",
          "text": [
            "Enter a number to calculate the factorial (≤ 10): 32\n",
            "Please enter a number ≤ 10 to visualize recursion.\n"
          ]
        }
      ]
    },
    {
      "cell_type": "code",
      "source": [
        "import time\n",
        "import sys\n",
        "\n",
        "# Recursive factorial function\n",
        "def factorial_recursive(n):\n",
        "    if n == 0 or n == 1:\n",
        "        return 1\n",
        "    else:\n",
        "        return n * factorial_recursive(n - 1)\n",
        "\n",
        "# Iterative factorial function\n",
        "def factorial_iterative(n):\n",
        "    result = 1\n",
        "    for i in range(2, n + 1):\n",
        "        result *= i\n",
        "    return result\n",
        "\n",
        "# Input from user\n",
        "number = int(input(\"Enter a number to calculate factorial (≤ 20): \"))\n",
        "\n",
        "# Edge case check\n",
        "if number < 0:\n",
        "    print(\"Factorial is not defined for negative numbers.\")\n",
        "elif number > 20:\n",
        "    print(\"Please enter a number ≤ 20 to avoid long recursion time.\")\n",
        "else:\n",
        "    # Recursive execution time and memory\n",
        "    start_rec = time.time()\n",
        "    rec_result = factorial_recursive(number)\n",
        "    end_rec = time.time()\n",
        "    rec_time = end_rec - start_rec\n",
        "    rec_memory = sys.getsizeof(rec_result)\n",
        "# Iterative execution time and memory\n",
        "    start_itr = time.time()\n",
        "    itr_result = factorial_iterative(number)\n",
        "    end_itr = time.time()\n",
        "    itr_time = end_itr - start_itr\n",
        "    itr_memory = sys.getsizeof(itr_result)\n",
        "\n",
        "    # Results\n",
        "    print(\"\\n--- Factorial Results ---\")\n",
        "    print(f\"Recursive Result: {rec_result}\")\n",
        "    print(f\"Iterative Result: {itr_result}\")\n",
        "\n",
        "    # Comparison Table\n",
        "    print(\"\\n--- Comparison Table ---\")\n",
        "    print(f\"{'Approach':<12}{'Time (sec)':<15}{'Memory (bytes)'}\")\n",
        "    print(f\"{'-'*40}\")\n",
        "    print(f\"{'Recursive':<12}{rec_time:<15.8f}{rec_memory}\")\n",
        "    print(f\"{'Iterative':<12}{itr_time:<15.8f}{itr_memory}\")\n",
        "\n",
        "    # Comments: Pros and Cons\n",
        "    print(\"\\n--- Pros and Cons ---\")\n",
        "    print(\"Recursive:\")\n",
        "    print(\"- Simpler to write and understand for mathematical problems.\")\n",
        "    print(\"- Consumes more memory (call stack). Risk of stack overflow for large n.\")\n",
        "\n",
        "    print(\"\\nIterative:\")\n",
        "    print(\"- More efficient in memory usage.\")\n",
        "    print(\"- Preferred for large inputs due to no recursion depth limit.\")"
      ],
      "metadata": {
        "colab": {
          "base_uri": "https://localhost:8080/"
        },
        "id": "2rnvinuX-PBR",
        "outputId": "7968fcbf-4639-4e85-9e62-acced9a77bfb"
      },
      "execution_count": null,
      "outputs": [
        {
          "output_type": "stream",
          "name": "stdout",
          "text": [
            "Enter a number to calculate factorial (≤ 20): 13\n",
            "\n",
            "--- Factorial Results ---\n",
            "Recursive Result: 6227020800\n",
            "Iterative Result: 6227020800\n",
            "\n",
            "--- Comparison Table ---\n",
            "Approach    Time (sec)     Memory (bytes)\n",
            "----------------------------------------\n",
            "Recursive   0.00000453     32\n",
            "Iterative   0.00000405     32\n",
            "\n",
            "--- Pros and Cons ---\n",
            "Recursive:\n",
            "- Simpler to write and understand for mathematical problems.\n",
            "- Consumes more memory (call stack). Risk of stack overflow for large n.\n",
            "\n",
            "Iterative:\n",
            "- More efficient in memory usage.\n",
            "- Preferred for large inputs due to no recursion depth limit.\n"
          ]
        }
      ]
    }
  ]
}